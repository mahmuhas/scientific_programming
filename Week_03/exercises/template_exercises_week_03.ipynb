{
 "cells": [
  {
   "cell_type": "markdown",
   "metadata": {},
   "source": [
    "# Template for Exercises Week 03"
   ]
  },
  {
   "cell_type": "markdown",
   "metadata": {},
   "source": [
    "## Libraries and settings"
   ]
  },
  {
   "cell_type": "code",
   "execution_count": 17,
   "metadata": {},
   "outputs": [
    {
     "name": "stdout",
     "output_type": "stream",
     "text": [
      "Current Working Directory: /workspaces/scientific_programming/Week_03/exercises\n"
     ]
    }
   ],
   "source": [
    "# Import libraries\n",
    "import os\n",
    "import warnings\n",
    "import sqlite3\n",
    "import pandas as pd\n",
    "import numpy as np\n",
    "import matplotlib.pyplot as plt\n",
    "import seaborn as sns\n",
    "\n",
    "# Ignore warnigns\n",
    "import warnings\n",
    "warnings.filterwarnings('ignore')\n",
    "\n",
    "# Show current working directory\n",
    "import os\n",
    "print(\"Current Working Directory:\", os.getcwd())"
   ]
  },
  {
   "cell_type": "markdown",
   "metadata": {},
   "source": [
    "## Input & Output in Python"
   ]
  },
  {
   "cell_type": "code",
   "execution_count": 18,
   "metadata": {},
   "outputs": [],
   "source": [
    "# Read data from the sheet 'cars' in the file 'car_dealer_data.xlsx' in the data folder and store it in a pandas data frame.\n",
    "df_cars = pd.read_excel('data/car_dealer_data.xlsx', sheet_name='Cars')\n",
    "\n",
    "# Write Python code to show the dimensions of the data frame.\n",
    "df_cars.shape\n",
    "\n",
    "# Write Python code to select only BMW cars.\n",
    "df_bmw = df_cars[df_cars['Make'] == 'BMW']\n",
    "\n",
    "# Show the data frame with only BMW cars.\n",
    "df_bmw\n",
    "\n",
    "# Store the data frame with only BMW cars in a .csv file named 'bmw_cars.csv' in the data folder.\n",
    "df_bmw.to_csv('data/bmw_cars.csv', index=False)\n"
   ]
  },
  {
   "cell_type": "markdown",
   "metadata": {},
   "source": [
    "## Formatting Strings & Working with Dates in Python"
   ]
  },
  {
   "cell_type": "code",
   "execution_count": 19,
   "metadata": {},
   "outputs": [
    {
     "data": {
      "text/html": [
       "<div>\n",
       "<style scoped>\n",
       "    .dataframe tbody tr th:only-of-type {\n",
       "        vertical-align: middle;\n",
       "    }\n",
       "\n",
       "    .dataframe tbody tr th {\n",
       "        vertical-align: top;\n",
       "    }\n",
       "\n",
       "    .dataframe thead th {\n",
       "        text-align: right;\n",
       "    }\n",
       "</style>\n",
       "<table border=\"1\" class=\"dataframe\">\n",
       "  <thead>\n",
       "    <tr style=\"text-align: right;\">\n",
       "      <th></th>\n",
       "      <th>CarID</th>\n",
       "      <th>DaysSinceSale</th>\n",
       "    </tr>\n",
       "  </thead>\n",
       "  <tbody>\n",
       "    <tr>\n",
       "      <th>0</th>\n",
       "      <td>CO22DH3EXT</td>\n",
       "      <td>633</td>\n",
       "    </tr>\n",
       "    <tr>\n",
       "      <th>1</th>\n",
       "      <td>C5UBZOD8WB</td>\n",
       "      <td>1998</td>\n",
       "    </tr>\n",
       "    <tr>\n",
       "      <th>2</th>\n",
       "      <td>C1PVXTTAN0</td>\n",
       "      <td>1461</td>\n",
       "    </tr>\n",
       "    <tr>\n",
       "      <th>3</th>\n",
       "      <td>CV56P1JD32</td>\n",
       "      <td>890</td>\n",
       "    </tr>\n",
       "    <tr>\n",
       "      <th>4</th>\n",
       "      <td>C4ZC4AYR1E</td>\n",
       "      <td>750</td>\n",
       "    </tr>\n",
       "    <tr>\n",
       "      <th>...</th>\n",
       "      <td>...</td>\n",
       "      <td>...</td>\n",
       "    </tr>\n",
       "    <tr>\n",
       "      <th>2495</th>\n",
       "      <td>C0SEQTTH41</td>\n",
       "      <td>1625</td>\n",
       "    </tr>\n",
       "    <tr>\n",
       "      <th>2496</th>\n",
       "      <td>CCEMGSDTJF</td>\n",
       "      <td>902</td>\n",
       "    </tr>\n",
       "    <tr>\n",
       "      <th>2497</th>\n",
       "      <td>C9XU8VK5LZ</td>\n",
       "      <td>896</td>\n",
       "    </tr>\n",
       "    <tr>\n",
       "      <th>2498</th>\n",
       "      <td>C7SQBAS6TR</td>\n",
       "      <td>1939</td>\n",
       "    </tr>\n",
       "    <tr>\n",
       "      <th>2499</th>\n",
       "      <td>CR2YZ6GUFI</td>\n",
       "      <td>1646</td>\n",
       "    </tr>\n",
       "  </tbody>\n",
       "</table>\n",
       "<p>2500 rows × 2 columns</p>\n",
       "</div>"
      ],
      "text/plain": [
       "           CarID  DaysSinceSale\n",
       "0     CO22DH3EXT            633\n",
       "1     C5UBZOD8WB           1998\n",
       "2     C1PVXTTAN0           1461\n",
       "3     CV56P1JD32            890\n",
       "4     C4ZC4AYR1E            750\n",
       "...          ...            ...\n",
       "2495  C0SEQTTH41           1625\n",
       "2496  CCEMGSDTJF            902\n",
       "2497  C9XU8VK5LZ            896\n",
       "2498  C7SQBAS6TR           1939\n",
       "2499  CR2YZ6GUFI           1646\n",
       "\n",
       "[2500 rows x 2 columns]"
      ]
     },
     "execution_count": 19,
     "metadata": {},
     "output_type": "execute_result"
    }
   ],
   "source": [
    "# Read the data from the sheet 'Sales' in the file 'car_dealer_data.xlsx' in the data folder and store it in a pandas data frame.\n",
    "df_sales = pd.read_excel('data/car_dealer_data.xlsx', sheet_name='Sales')\n",
    "\n",
    "# Change the format of the column 'SaleDate' of the table 'Sales' in the cars data to 'datetime' with \"%Y-%m-%d\".\n",
    "df_sales['SaleDate'] = pd.to_datetime(df_sales['SaleDate'], format='%Y-%m-%d')\n",
    "\n",
    "# Calculate the date difference between the formatted 'SaleDate' and the today's date and store it in a new column 'DaysSinceSale'.\n",
    "df_sales['DaysSinceSale'] = (pd.to_datetime('today') - df_sales['SaleDate']).dt.days\n",
    "\n",
    "# Create a new data frame only with the columns 'CarID' and the 'DaysSinceSale' as sales_info.json in the data folder.\n",
    "df_sales_info = df_sales[['CarID', 'DaysSinceSale']]\n",
    "df_sales_info.to_json('data/sales_info.json', orient='records')\n",
    "\n",
    "# Show the data frame\n",
    "df_sales_info\n"
   ]
  },
  {
   "cell_type": "markdown",
   "metadata": {},
   "source": [
    "## Writing and Querying SQLite Databases with Python"
   ]
  },
  {
   "cell_type": "code",
   "execution_count": 20,
   "metadata": {},
   "outputs": [
    {
     "data": {
      "image/png": "[encoded data removed]",
      "text/plain": [
       "<Figure size 640x480 with 1 Axes>"
      ]
     },
     "metadata": {},
     "output_type": "display_data"
    },
    {
     "data": {
      "text/plain": [
       "<Figure size 640x480 with 0 Axes>"
      ]
     },
     "metadata": {},
     "output_type": "display_data"
    }
   ],
   "source": [
    "# Create a connection to the SQLite database 'car_dealer_data.db' in the data folder.\n",
    "conn = sqlite3.connect('data/car_dealer_data.db')\n",
    "\n",
    "# Write an SQL statement to select prices >= 10,000 USD and store the result in a pandas data frame.\n",
    "query = \"SELECT * FROM Cars WHERE Price >= 10000\"\n",
    "df_prices = pd.read_sql_query(query, conn)\n",
    "\n",
    "# Close the connection.\n",
    "conn.close()\n",
    "\n",
    "# Show the data frame.\n",
    "df_prices\n",
    "\n",
    "# Create a histogram of the selected prices.\n",
    "df_prices['price'].hist()\n",
    "plt.xlabel('price')\n",
    "plt.ylabel('Frequency')\n",
    "plt.title('Histogram of Prices')\n",
    "plt.show()\n",
    "\n",
    "# Store the histogram in a file histogram.png in the data folder.\n",
    "plt.savefig('data/histogram.png')\n"
   ]
  },
  {
   "cell_type": "markdown",
   "metadata": {},
   "source": [
    "### Jupyter notebook --footer info-- (please always provide this at the end of each notebook)"
   ]
  },
  {
   "cell_type": "code",
   "execution_count": 21,
   "metadata": {},
   "outputs": [
    {
     "name": "stdout",
     "output_type": "stream",
     "text": [
      "-----------------------------------\n",
      "POSIX\n",
      "Linux | 6.5.0-1025-azure\n",
      "Datetime: 2025-03-05 12:32:21\n",
      "Python Version: 3.11.11\n",
      "-----------------------------------\n"
     ]
    }
   ],
   "source": [
    "import os\n",
    "import platform\n",
    "import socket\n",
    "from platform import python_version\n",
    "from datetime import datetime\n",
    "\n",
    "print('-----------------------------------')\n",
    "print(os.name.upper())\n",
    "print(platform.system(), '|', platform.release())\n",
    "print('Datetime:', datetime.now().strftime(\"%Y-%m-%d %H:%M:%S\"))\n",
    "print('Python Version:', python_version())\n",
    "print('-----------------------------------')"
   ]
  }
 ],
 "metadata": {
  "kernelspec": {
   "display_name": "Python 3",
   "language": "python",
   "name": "python3"
  },
  "language_info": {
   "codemirror_mode": {
    "name": "ipython",
    "version": 3
   },
   "file_extension": ".py",
   "mimetype": "text/x-python",
   "name": "python",
   "nbconvert_exporter": "python",
   "pygments_lexer": "ipython3",
   "version": "3.11.11"
  }
 },
 "nbformat": 4,
 "nbformat_minor": 2
}
