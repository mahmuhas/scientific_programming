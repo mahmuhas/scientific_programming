{
 "cells": [
  {
   "cell_type": "markdown",
   "metadata": {},
   "source": [
    "# Template for Exercises Week 03"
   ]
  },
  {
   "cell_type": "markdown",
   "metadata": {},
   "source": [
    "## Libraries and settings"
   ]
  },
  {
   "cell_type": "code",
   "execution_count": null,
   "metadata": {},
   "outputs": [
    {
     "name": "stdout",
     "output_type": "stream",
     "text": [
      "Current Working Directory: /workspaces/scientific_programming/Week_03/exercises\n"
     ]
    }
   ],
   "source": [
    "# Import libraries\n",
    "import os\n",
    "import warnings\n",
    "import pandas as pd\n",
    "import numpy as np\n",
    "import matplotlib.pyplot as plt\n",
    "import seaborn as sns\n",
    "\n",
    "# Ignore warnigns\n",
    "import warnings\n",
    "warnings.filterwarnings('ignore')\n",
    "\n",
    "# Show current working directory\n",
    "import os\n",
    "print(\"Current Working Directory:\", os.getcwd())"
   ]
  },
  {
   "cell_type": "markdown",
   "metadata": {},
   "source": [
    "## Input & Output in Python"
   ]
  },
  {
   "cell_type": "code",
   "execution_count": 12,
   "metadata": {},
   "outputs": [],
   "source": [
    "# Read data from the sheet 'cars' in the file 'car_dealer_data.xlsx' in the data folder and store it in a pandas data frame.\n",
    "df_cars = pd.read_excel('data/car_dealer_data.xlsx', sheet_name='Cars')\n",
    "\n",
    "# Write Python code to show the dimensions of the data frame.\n",
    "df_cars.shape\n",
    "\n",
    "# Write Python code to select only BMW cars.\n",
    "df_bmw = df_cars[df_cars['Make'] == 'BMW']\n",
    "\n",
    "# Show the data frame with only BMW cars.\n",
    "df_bmw\n",
    "\n",
    "# Store the data frame with only BMW cars in a .csv file named 'bmw_cars.csv' in the data folder.\n",
    "df_bmw.to_csv('data/bmw_cars.csv', index=False)\n"
   ]
  },
  {
   "cell_type": "markdown",
   "metadata": {},
   "source": [
    "## Formatting Strings & Working with Dates in Python"
   ]
  },
  {
   "cell_type": "code",
   "execution_count": null,
   "metadata": {},
   "outputs": [],
   "source": [
    "# Read the data from the sheet 'Sales' in the file 'car_dealer_data.xlsx' in the data folder and store it in a pandas data frame.\n",
    "\n",
    "\n",
    "# Change the format of the column 'SaleDate' of the table 'Sales' in the cars data to 'datetime' with \"%Y-%m-%d\".\n",
    "\n",
    "\n",
    "# Calculate the date difference between the formatted 'SaleDate' and the today's date and store it in a new column 'DaysSinceSale'.\n",
    "\n",
    "\n",
    "# Create a new data frame only with the columns 'CarID' and the 'DaysSinceSale' as sales_info.json in the data folder.\n",
    "\n",
    "\n",
    "# Show the data frame\n"
   ]
  },
  {
   "cell_type": "markdown",
   "metadata": {},
   "source": [
    "## Writing and Querying SQLite Databases with Python"
   ]
  },
  {
   "cell_type": "code",
   "execution_count": null,
   "metadata": {},
   "outputs": [],
   "source": [
    "# Create a connection to the SQLite database 'car_dealer_data.db' in the data folder.\n",
    "\n",
    "\n",
    "# Write an SQL statement to select prices >= 10,000 USD and store the result in a pandas data frame.\n",
    "\n",
    "\n",
    "# Close the connection.\n",
    "\n",
    "\n",
    "# Show the data frame.\n",
    "\n",
    "\n",
    "# Create a histogram of the selected prices.\n",
    "\n",
    "\n",
    "# Store the histogram in a file histogram.png in the data folder.\n"
   ]
  },
  {
   "cell_type": "markdown",
   "metadata": {},
   "source": [
    "### Jupyter notebook --footer info-- (please always provide this at the end of each notebook)"
   ]
  },
  {
   "cell_type": "code",
   "execution_count": 1,
   "metadata": {},
   "outputs": [
    {
     "name": "stdout",
     "output_type": "stream",
     "text": [
      "-----------------------------------\n",
      "NT\n",
      "Windows | 10\n",
      "Datetime: 2025-02-26 19:19:11\n",
      "Python Version: 3.11.10\n",
      "-----------------------------------\n"
     ]
    }
   ],
   "source": [
    "import os\n",
    "import platform\n",
    "import socket\n",
    "from platform import python_version\n",
    "from datetime import datetime\n",
    "\n",
    "print('-----------------------------------')\n",
    "print(os.name.upper())\n",
    "print(platform.system(), '|', platform.release())\n",
    "print('Datetime:', datetime.now().strftime(\"%Y-%m-%d %H:%M:%S\"))\n",
    "print('Python Version:', python_version())\n",
    "print('-----------------------------------')"
   ]
  }
 ],
 "metadata": {
  "kernelspec": {
   "display_name": "Python 3",
   "language": "python",
   "name": "python3"
  },
  "language_info": {
   "codemirror_mode": {
    "name": "ipython",
    "version": 3
   },
   "file_extension": ".py",
   "mimetype": "text/x-python",
   "name": "python",
   "nbconvert_exporter": "python",
   "pygments_lexer": "ipython3",
   "version": "3.11.11"
  }
 },
 "nbformat": 4,
 "nbformat_minor": 2
}
