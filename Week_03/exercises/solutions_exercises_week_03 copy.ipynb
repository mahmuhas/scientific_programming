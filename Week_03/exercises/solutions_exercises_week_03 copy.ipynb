{
 "cells": [
  {
   "cell_type": "markdown",
   "metadata": {},
   "source": [
    "# Solutions for Exercises Week 03"
   ]
  },
  {
   "cell_type": "markdown",
   "metadata": {},
   "source": [
    "## Libraries and settings"
   ]
  },
  {
   "cell_type": "code",
   "execution_count": null,
   "metadata": {},
   "outputs": [],
   "source": [
    "# Import libraries\n",
    "import os\n",
    "import warnings\n",
    "import sqlite3\n",
    "import numpy as np\n",
    "import pandas as pd\n",
    "import matplotlib.pyplot as plt\n",
    "\n",
    "# Ignore warnigns\n",
    "warnings.filterwarnings(\"ignore\")\n",
    "\n",
    "# Show current working directory\n",
    "print(\"Current working directory: \", os.getcwd())"
   ]
  },
  {
   "cell_type": "markdown",
   "metadata": {},
   "source": [
    "## Input & Output in Python"
   ]
  },
  {
   "cell_type": "code",
   "execution_count": null,
   "metadata": {},
   "outputs": [],
   "source": [
    "# Read data from the sheet 'cars' in the file 'car_dealer_data.xlsx' in the data folder and store it in a pandas data frame.\n",
    "df_cars = pd.read_excel(\"./data/car_dealer_data.xlsx\", sheet_name=\"Cars\")\n",
    "\n",
    "# Write Python code to show the dimensions of the data frame.\n",
    "print(\"Dimensions of the data frame: \", df_cars.shape, \"\\n\")\n",
    "\n",
    "# Write Python code to select only BMW cars.\n",
    "df_bmw = df_cars[df_cars[\"Make\"] == \"BMW\"]\n",
    "\n",
    "# Show the data frame with only BMW cars.\n",
    "print(df_bmw)\n",
    "\n",
    "# Store the data frame with only BMW cars in a .csv file named 'bmw_cars.csv' in the data folder.\n",
    "df_bmw.to_csv(\"./data/bmw_cars.csv\", index=False)\n"
   ]
  },
  {
   "cell_type": "markdown",
   "metadata": {},
   "source": [
    "## Formatting Strings & Working with Dates in Python"
   ]
  },
  {
   "cell_type": "code",
   "execution_count": null,
   "metadata": {},
   "outputs": [],
   "source": [
    "# Read the data from the sheet 'Sales' in the file 'car_dealer_data.xlsx' in the data folder and store it in a pandas data frame.\n",
    "df_sales = pd.read_excel(\"./data/car_dealer_data.xlsx\", sheet_name=\"Sales\")\n",
    "\n",
    "# Change the format of the column 'SaleDate' of the table 'Sales' in the cars data to 'datetime' with \"%Y-%m-%d\".\n",
    "df_sales[\"SaleDate\"] = pd.to_datetime(df_sales[\"SaleDate\"], format=\"%Y-%m-%d\")\n",
    "\n",
    "# Calculate the date difference between the formatted 'SaleDate' and the today's date and store it in a new column 'DaysSinceSale'.\n",
    "df_sales[\"DaysSinceSale\"] = (pd.to_datetime(\"today\") - df_sales[\"SaleDate\"]).dt.days\n",
    "\n",
    "# Create a new data frame only with the columns 'CarID' and the 'DaysSinceSale' as sales_info.json in the data folder.\n",
    "df_sales_info = df_sales[[\"CarID\", \"DaysSinceSale\"]]\n",
    "\n",
    "# Show the data frame\n",
    "df_sales_info"
   ]
  },
  {
   "cell_type": "markdown",
   "metadata": {},
   "source": [
    "## Writing and Querying SQLite Databases with Python"
   ]
  },
  {
   "cell_type": "code",
   "execution_count": null,
   "metadata": {},
   "outputs": [],
   "source": [
    "# Create a connection to the SQLite database 'car_dealer_data.db' in the data folder.\n",
    "conn = sqlite3.connect(\"./data/car_dealer_data.db\")\n",
    "\n",
    "# Write an SQL statement to select prices >= 10,000 USD\n",
    "query = \"SELECT Price FROM Cars WHERE Price >= 10000\"\n",
    "\n",
    "# Execute the SQL statement and store the result in a pandas data frame.\n",
    "df_prices = pd.read_sql_query(query, conn)\n",
    "\n",
    "# Close the connection.\n",
    "conn.close()\n",
    "\n",
    "# Show the data frame.\n",
    "df_prices\n",
    "\n",
    "# Create a histogram of the selected prices.\n",
    "plt.figure(figsize=(7, 4))\n",
    "plt.hist(df_prices[\"price\"], bins=10, color=\"skyblue\", edgecolor=\"black\")\n",
    "plt.title(\"Histogram of Prices\")\n",
    "plt.xlabel(\"Price\")\n",
    "plt.ylabel(\"Frequency\")\n",
    "\n",
    "# Store the histogram in a file histogram.png in the data folder.\n",
    "plt.savefig(\"./data/histogram.png\")\n",
    "\n",
    "# Show the histogram.\n",
    "plt.show()\n"
   ]
  },
  {
   "cell_type": "markdown",
   "metadata": {},
   "source": [
    "### Jupyter notebook --footer info-- (please always provide this at the end of each notebook)"
   ]
  },
  {
   "cell_type": "code",
   "execution_count": null,
   "metadata": {},
   "outputs": [],
   "source": [
    "import os\n",
    "import platform\n",
    "import socket\n",
    "from platform import python_version\n",
    "from datetime import datetime\n",
    "\n",
    "print('-----------------------------------')\n",
    "print(os.name.upper())\n",
    "print(platform.system(), '|', platform.release())\n",
    "print('Datetime:', datetime.now().strftime(\"%Y-%m-%d %H:%M:%S\"))\n",
    "print('Python Version:', python_version())\n",
    "print('-----------------------------------')"
   ]
  }
 ],
 "metadata": {
  "kernelspec": {
   "display_name": "spenv",
   "language": "python",
   "name": "python3"
  },
  "language_info": {
   "codemirror_mode": {
    "name": "ipython",
    "version": 3
   },
   "file_extension": ".py",
   "mimetype": "text/x-python",
   "name": "python",
   "nbconvert_exporter": "python",
   "pygments_lexer": "ipython3",
   "version": "3.11.10"
  }
 },
 "nbformat": 4,
 "nbformat_minor": 2
}
