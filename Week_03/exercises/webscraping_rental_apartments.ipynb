{
 "cells": [
  {
   "cell_type": "markdown",
   "metadata": {},
   "source": [
    "# Web Scraping Rental Apartment Data with Python and Beautifulsoup\n",
    "\n",
    "Data from: https://www.immoscout24.ch/de/immobilien/mieten/ort-zuerich?pn=1"
   ]
  },
  {
   "cell_type": "markdown",
   "metadata": {},
   "source": [
    "## Libraries and settings"
   ]
  },
  {
   "cell_type": "code",
   "execution_count": 9,
   "metadata": {},
   "outputs": [],
   "source": [
    "import requests\n",
    "import pandas as pd\n",
    "from bs4 import BeautifulSoup\n",
    "import matplotlib.pyplot as plt"
   ]
  },
  {
   "cell_type": "markdown",
   "metadata": {},
   "source": [
    "## Example of scraping data from a website with BeautifulSoup"
   ]
  },
  {
   "cell_type": "code",
   "execution_count": 10,
   "metadata": {},
   "outputs": [
    {
     "data": {
      "text/plain": [
       "[<div class=\"HgListingRoomsLivingSpacePrice_roomsLivingSpacePrice_M6Ktp\"><strong>6.5 Zimmer</strong><span>, </span><strong title=\"Wohnfläche\">150m²</strong><span class=\"HgListingRoomsLivingSpacePrice_commaPrice_mXXpt\">,</span><span class=\"HgListingRoomsLivingSpacePrice_price_u9Vee\"> CHF 6’220.– <!-- --><!-- --></span></div>,\n",
       " <div class=\"HgListingRoomsLivingSpacePrice_roomsLivingSpacePrice_M6Ktp\"><strong>6.5 Zimmer</strong><span>, </span><strong title=\"Wohnfläche\">160m²</strong><span class=\"HgListingRoomsLivingSpacePrice_commaPrice_mXXpt\">,</span><span class=\"HgListingRoomsLivingSpacePrice_price_u9Vee\"> CHF 6’410.– <!-- --><!-- --></span></div>,\n",
       " <div class=\"HgListingRoomsLivingSpacePrice_roomsLivingSpacePrice_M6Ktp\"><strong>5.5 Zimmer</strong><span>, </span><strong title=\"Wohnfläche\">140m²</strong><span class=\"HgListingRoomsLivingSpacePrice_commaPrice_mXXpt\">,</span><span class=\"HgListingRoomsLivingSpacePrice_price_u9Vee\"> CHF 5’120.– <!-- --><!-- --></span></div>,\n",
       " <div class=\"HgListingRoomsLivingSpacePrice_roomsLivingSpacePrice_M6Ktp\"><strong>5.5 Zimmer</strong><span>, </span><strong title=\"Wohnfläche\">122m²</strong><span class=\"HgListingRoomsLivingSpacePrice_commaPrice_mXXpt\">,</span><span class=\"HgListingRoomsLivingSpacePrice_price_u9Vee\"> CHF 4’900.– <!-- --><!-- --></span></div>,\n",
       " <div class=\"HgListingRoomsLivingSpacePrice_roomsLivingSpacePrice_M6Ktp\"><strong>5.5 Zimmer</strong><span>, </span><strong title=\"Wohnfläche\">121m²</strong><span class=\"HgListingRoomsLivingSpacePrice_commaPrice_mXXpt\">,</span><span class=\"HgListingRoomsLivingSpacePrice_price_u9Vee\"> CHF 4’800.– <!-- --><!-- --></span></div>,\n",
       " <div class=\"HgListingRoomsLivingSpacePrice_roomsLivingSpacePrice_M6Ktp\"><strong>3.5 Zimmer</strong><span>, </span><strong title=\"Wohnfläche\">102m²</strong><span class=\"HgListingRoomsLivingSpacePrice_commaPrice_mXXpt\">,</span><span class=\"HgListingRoomsLivingSpacePrice_price_u9Vee\"> CHF 4’410.– <!-- --><!-- --></span></div>,\n",
       " <div class=\"HgListingRoomsLivingSpacePrice_roomsLivingSpacePrice_M6Ktp\"><strong>5.5 Zimmer</strong><span>, </span><strong title=\"Wohnfläche\">121m²</strong><span class=\"HgListingRoomsLivingSpacePrice_commaPrice_mXXpt\">,</span><span class=\"HgListingRoomsLivingSpacePrice_price_u9Vee\"> CHF 5’080.– <!-- --><!-- --></span></div>,\n",
       " <div class=\"HgListingRoomsLivingSpacePrice_roomsLivingSpacePrice_M6Ktp\"><strong>3.5 Zimmer</strong><span>, </span><strong title=\"Wohnfläche\">82m²</strong><span class=\"HgListingRoomsLivingSpacePrice_commaPrice_mXXpt\">,</span><span class=\"HgListingRoomsLivingSpacePrice_price_u9Vee\"> CHF 3’540.– <!-- --><!-- --></span></div>,\n",
       " <div class=\"HgListingRoomsLivingSpacePrice_roomsLivingSpacePrice_M6Ktp\"><strong>2.5 Zimmer</strong><span>, </span><strong title=\"Wohnfläche\">37m²</strong><span class=\"HgListingRoomsLivingSpacePrice_commaPrice_mXXpt\">,</span><span class=\"HgListingRoomsLivingSpacePrice_price_u9Vee\"> CHF 720.– <!-- --><!-- --></span></div>,\n",
       " <div class=\"HgListingRoomsLivingSpacePrice_roomsLivingSpacePrice_M6Ktp\"><strong>3.5 Zimmer</strong><span>, </span><strong title=\"Wohnfläche\">90m²</strong><span class=\"HgListingRoomsLivingSpacePrice_commaPrice_mXXpt\">,</span><span class=\"HgListingRoomsLivingSpacePrice_price_u9Vee\"> CHF 4’270.– <!-- --><!-- --></span></div>]"
      ]
     },
     "execution_count": 10,
     "metadata": {},
     "output_type": "execute_result"
    }
   ],
   "source": [
    "# Send a GET request to the input URL\n",
    "response = requests.get('https://www.immoscout24.ch/de/immobilien/mieten/ort-zuerich?pn=1')\n",
    "\n",
    "# Parse the content of the request with BeautifulSoup\n",
    "soup = BeautifulSoup(response.content, 'html.parser')\n",
    "\n",
    "# Extract the listings from the parsed content\n",
    "# 'div' is the HTML tag (division) of the element that contains the listings\n",
    "# 'class_' is the CSS class of the element that contains the listings\n",
    "listings = soup.find_all('div', class_='HgListingRoomsLivingSpacePrice_roomsLivingSpacePrice_M6Ktp')\n",
    "\n",
    "# Show first 10 listings\n",
    "listings[0:10]\n"
   ]
  },
  {
   "cell_type": "markdown",
   "metadata": {},
   "source": [
    "## Web Scraper function"
   ]
  },
  {
   "cell_type": "code",
   "execution_count": 11,
   "metadata": {},
   "outputs": [],
   "source": [
    "# Function to extract the listings from a given URL\n",
    "def extract_listing_info(url):\n",
    "\n",
    "    # Send a GET request to the input URL\n",
    "    response = requests.get(url)\n",
    "\n",
    "    # Parse the content of the request with BeautifulSoup\n",
    "    soup = BeautifulSoup(response.content, 'html.parser')\n",
    "    \n",
    "    # Extract the listings from the parsed content\n",
    "    listings = soup.find_all('div', class_='HgListingCard_info_RKrwz')\n",
    "    \n",
    "    # Initialize an empty list to store the extracted data\n",
    "    extracted_data = []\n",
    "    \n",
    "    # Loop through the listings and extract the required information\n",
    "    for listing in listings:\n",
    "        # Extract address\n",
    "        address_tag = listing.find('address')\n",
    "        address = address_tag.text.strip() if address_tag else 'N/A'\n",
    "\n",
    "        # Extract rooms, living area, and price\n",
    "        info_section = listing.find('div', class_='HgListingRoomsLivingSpacePrice_roomsLivingSpacePrice_M6Ktp')\n",
    "        if info_section:\n",
    "            info_text = [strong.text.strip() for strong in info_section.find_all('strong')]\n",
    "            rooms = info_text[0] if len(info_text) > 0 else 'N/A'\n",
    "            living_area = info_text[1] if len(info_text) > 1 else 'N/A'\n",
    "            price_tag = info_section.find('span', class_='HgListingRoomsLivingSpacePrice_price_u9Vee')\n",
    "            price = price_tag.text.strip() if price_tag else 'N/A'\n",
    "        else:\n",
    "            rooms, living_area, price = 'N/A', 'N/A', 'N/A'\n",
    "\n",
    "        # Extract title and description\n",
    "        title_tag = listing.find('p', class_='HgListingDescription_title_NAAxy')\n",
    "        title = title_tag.text.strip() if title_tag else 'N/A'\n",
    "\n",
    "        description_tag = listing.find('p', class_='HgListingDescription_large_uKs3J')\n",
    "        description = description_tag.text.strip() if description_tag else 'N/A'\n",
    "\n",
    "        # Append extracted data to the list\n",
    "        extracted_data.append({\n",
    "            'address_raw': address,\n",
    "            'rooms_raw': rooms,\n",
    "            'area_raw': living_area,\n",
    "            'price_raw': price,\n",
    "            'title_raw': title,\n",
    "            'description_raw': description\n",
    "        })\n",
    "    \n",
    "    # Return the extracted data\n",
    "    return extracted_data\n"
   ]
  },
  {
   "cell_type": "markdown",
   "metadata": {},
   "source": [
    "## Call the Web Scraper function to get apartment data from the 1st page"
   ]
  },
  {
   "cell_type": "code",
   "execution_count": 12,
   "metadata": {},
   "outputs": [
    {
     "data": {
      "text/html": [
       "<div>\n",
       "<style scoped>\n",
       "    .dataframe tbody tr th:only-of-type {\n",
       "        vertical-align: middle;\n",
       "    }\n",
       "\n",
       "    .dataframe tbody tr th {\n",
       "        vertical-align: top;\n",
       "    }\n",
       "\n",
       "    .dataframe thead th {\n",
       "        text-align: right;\n",
       "    }\n",
       "</style>\n",
       "<table border=\"1\" class=\"dataframe\">\n",
       "  <thead>\n",
       "    <tr style=\"text-align: right;\">\n",
       "      <th></th>\n",
       "      <th>address_raw</th>\n",
       "      <th>rooms_raw</th>\n",
       "      <th>area_raw</th>\n",
       "      <th>price_raw</th>\n",
       "      <th>title_raw</th>\n",
       "      <th>description_raw</th>\n",
       "    </tr>\n",
       "  </thead>\n",
       "  <tbody>\n",
       "    <tr>\n",
       "      <th>0</th>\n",
       "      <td>Weidmannstrasse 13, 8046 Zürich</td>\n",
       "      <td>6.5 Zimmer</td>\n",
       "      <td>150m²</td>\n",
       "      <td>CHF 6’220.–</td>\n",
       "      <td>Luxuriöse 6.5-Zimmerwohnung mit großzügigem Ga...</td>\n",
       "      <td>Moderne und wunderschöne 6.5-Zimmerwohnung mit...</td>\n",
       "    </tr>\n",
       "    <tr>\n",
       "      <th>1</th>\n",
       "      <td>Segnesstrasse 12, 8048 Zürich</td>\n",
       "      <td>6.5 Zimmer</td>\n",
       "      <td>160m²</td>\n",
       "      <td>CHF 6’410.–</td>\n",
       "      <td>Exklusive Erstvermietung - Projekt \"TILIA</td>\n",
       "      <td>Im Projekt «TILIA» finden Sie 72 stilvolle 1.5...</td>\n",
       "    </tr>\n",
       "    <tr>\n",
       "      <th>2</th>\n",
       "      <td>Segnesstrasse 8, 8048 Zürich</td>\n",
       "      <td>5.5 Zimmer</td>\n",
       "      <td>140m²</td>\n",
       "      <td>CHF 5’120.–</td>\n",
       "      <td>Exklusive Erstvermietung - Projekt \"TILIA\"</td>\n",
       "      <td>Im Projekt «TILIA» finden Sie 72 stilvolle 1.5...</td>\n",
       "    </tr>\n",
       "    <tr>\n",
       "      <th>3</th>\n",
       "      <td>Anna-Heer-Strasse 12, 8057 Zürich</td>\n",
       "      <td>5.5 Zimmer</td>\n",
       "      <td>122m²</td>\n",
       "      <td>CHF 4’900.–</td>\n",
       "      <td>5.5 Zimmerwohnung in Zürich</td>\n",
       "      <td>An der Anna-Heer-Strasse in Zürich entstehen m...</td>\n",
       "    </tr>\n",
       "    <tr>\n",
       "      <th>4</th>\n",
       "      <td>Anna-Heer-Strasse 16, 8057 Zürich</td>\n",
       "      <td>5.5 Zimmer</td>\n",
       "      <td>121m²</td>\n",
       "      <td>CHF 4’800.–</td>\n",
       "      <td>5.5 Zimmerwohnung in Zürich</td>\n",
       "      <td>An der Anna-Heer-Strasse in Zürich entstehen m...</td>\n",
       "    </tr>\n",
       "  </tbody>\n",
       "</table>\n",
       "</div>"
      ],
      "text/plain": [
       "                         address_raw   rooms_raw area_raw    price_raw  \\\n",
       "0    Weidmannstrasse 13, 8046 Zürich  6.5 Zimmer    150m²  CHF 6’220.–   \n",
       "1      Segnesstrasse 12, 8048 Zürich  6.5 Zimmer    160m²  CHF 6’410.–   \n",
       "2       Segnesstrasse 8, 8048 Zürich  5.5 Zimmer    140m²  CHF 5’120.–   \n",
       "3  Anna-Heer-Strasse 12, 8057 Zürich  5.5 Zimmer    122m²  CHF 4’900.–   \n",
       "4  Anna-Heer-Strasse 16, 8057 Zürich  5.5 Zimmer    121m²  CHF 4’800.–   \n",
       "\n",
       "                                           title_raw  \\\n",
       "0  Luxuriöse 6.5-Zimmerwohnung mit großzügigem Ga...   \n",
       "1          Exklusive Erstvermietung - Projekt \"TILIA   \n",
       "2         Exklusive Erstvermietung - Projekt \"TILIA\"   \n",
       "3                        5.5 Zimmerwohnung in Zürich   \n",
       "4                        5.5 Zimmerwohnung in Zürich   \n",
       "\n",
       "                                     description_raw  \n",
       "0  Moderne und wunderschöne 6.5-Zimmerwohnung mit...  \n",
       "1  Im Projekt «TILIA» finden Sie 72 stilvolle 1.5...  \n",
       "2  Im Projekt «TILIA» finden Sie 72 stilvolle 1.5...  \n",
       "3  An der Anna-Heer-Strasse in Zürich entstehen m...  \n",
       "4  An der Anna-Heer-Strasse in Zürich entstehen m...  "
      ]
     },
     "execution_count": 12,
     "metadata": {},
     "output_type": "execute_result"
    }
   ],
   "source": [
    "# Scrape 1st page\n",
    "url = 'https://www.immoscout24.ch/de/immobilien/mieten/ort-zuerich?pn=1'\n",
    "\n",
    "# Extract listing information to a list object 'data'\n",
    "data = extract_listing_info(url)\n",
    "\n",
    "# Create DataFrame from 'data'\n",
    "df = pd.DataFrame(data)\n",
    "\n",
    "# Show the first few rows of the DataFrame\n",
    "df.head()"
   ]
  },
  {
   "cell_type": "markdown",
   "metadata": {},
   "source": [
    "## Call the Web Scraper function to get apartment data from multiple pages"
   ]
  },
  {
   "cell_type": "code",
   "execution_count": 13,
   "metadata": {},
   "outputs": [
    {
     "name": "stdout",
     "output_type": "stream",
     "text": [
      "Scraping https://www.immoscout24.ch/de/immobilien/mieten/ort-zuerich?pn=1...\n",
      "Scraping https://www.immoscout24.ch/de/immobilien/mieten/ort-zuerich?pn=2...\n",
      "Scraping https://www.immoscout24.ch/de/immobilien/mieten/ort-zuerich?pn=3...\n",
      "\n",
      "Data saved to real_estate_listings.csv\n"
     ]
    },
    {
     "data": {
      "text/html": [
       "<div>\n",
       "<style scoped>\n",
       "    .dataframe tbody tr th:only-of-type {\n",
       "        vertical-align: middle;\n",
       "    }\n",
       "\n",
       "    .dataframe tbody tr th {\n",
       "        vertical-align: top;\n",
       "    }\n",
       "\n",
       "    .dataframe thead th {\n",
       "        text-align: right;\n",
       "    }\n",
       "</style>\n",
       "<table border=\"1\" class=\"dataframe\">\n",
       "  <thead>\n",
       "    <tr style=\"text-align: right;\">\n",
       "      <th></th>\n",
       "      <th>address_raw</th>\n",
       "      <th>rooms_raw</th>\n",
       "      <th>area_raw</th>\n",
       "      <th>price_raw</th>\n",
       "      <th>title_raw</th>\n",
       "      <th>description_raw</th>\n",
       "    </tr>\n",
       "  </thead>\n",
       "  <tbody>\n",
       "    <tr>\n",
       "      <th>0</th>\n",
       "      <td>Weidmannstrasse 13, 8046 Zürich</td>\n",
       "      <td>6.5 Zimmer</td>\n",
       "      <td>150m²</td>\n",
       "      <td>CHF 6’220.–</td>\n",
       "      <td>Luxuriöse 6.5-Zimmerwohnung mit großzügigem Ga...</td>\n",
       "      <td>Moderne und wunderschöne 6.5-Zimmerwohnung mit...</td>\n",
       "    </tr>\n",
       "    <tr>\n",
       "      <th>1</th>\n",
       "      <td>Segnesstrasse 12, 8048 Zürich</td>\n",
       "      <td>6.5 Zimmer</td>\n",
       "      <td>160m²</td>\n",
       "      <td>CHF 6’410.–</td>\n",
       "      <td>Exklusive Erstvermietung - Projekt \"TILIA</td>\n",
       "      <td>Im Projekt «TILIA» finden Sie 72 stilvolle 1.5...</td>\n",
       "    </tr>\n",
       "    <tr>\n",
       "      <th>2</th>\n",
       "      <td>Segnesstrasse 8, 8048 Zürich</td>\n",
       "      <td>5.5 Zimmer</td>\n",
       "      <td>140m²</td>\n",
       "      <td>CHF 5’120.–</td>\n",
       "      <td>Exklusive Erstvermietung - Projekt \"TILIA\"</td>\n",
       "      <td>Im Projekt «TILIA» finden Sie 72 stilvolle 1.5...</td>\n",
       "    </tr>\n",
       "    <tr>\n",
       "      <th>3</th>\n",
       "      <td>Anna-Heer-Strasse 12, 8057 Zürich</td>\n",
       "      <td>5.5 Zimmer</td>\n",
       "      <td>122m²</td>\n",
       "      <td>CHF 4’900.–</td>\n",
       "      <td>5.5 Zimmerwohnung in Zürich</td>\n",
       "      <td>An der Anna-Heer-Strasse in Zürich entstehen m...</td>\n",
       "    </tr>\n",
       "    <tr>\n",
       "      <th>4</th>\n",
       "      <td>Anna-Heer-Strasse 16, 8057 Zürich</td>\n",
       "      <td>5.5 Zimmer</td>\n",
       "      <td>121m²</td>\n",
       "      <td>CHF 4’800.–</td>\n",
       "      <td>5.5 Zimmerwohnung in Zürich</td>\n",
       "      <td>An der Anna-Heer-Strasse in Zürich entstehen m...</td>\n",
       "    </tr>\n",
       "  </tbody>\n",
       "</table>\n",
       "</div>"
      ],
      "text/plain": [
       "                         address_raw   rooms_raw area_raw    price_raw  \\\n",
       "0    Weidmannstrasse 13, 8046 Zürich  6.5 Zimmer    150m²  CHF 6’220.–   \n",
       "1      Segnesstrasse 12, 8048 Zürich  6.5 Zimmer    160m²  CHF 6’410.–   \n",
       "2       Segnesstrasse 8, 8048 Zürich  5.5 Zimmer    140m²  CHF 5’120.–   \n",
       "3  Anna-Heer-Strasse 12, 8057 Zürich  5.5 Zimmer    122m²  CHF 4’900.–   \n",
       "4  Anna-Heer-Strasse 16, 8057 Zürich  5.5 Zimmer    121m²  CHF 4’800.–   \n",
       "\n",
       "                                           title_raw  \\\n",
       "0  Luxuriöse 6.5-Zimmerwohnung mit großzügigem Ga...   \n",
       "1          Exklusive Erstvermietung - Projekt \"TILIA   \n",
       "2         Exklusive Erstvermietung - Projekt \"TILIA\"   \n",
       "3                        5.5 Zimmerwohnung in Zürich   \n",
       "4                        5.5 Zimmerwohnung in Zürich   \n",
       "\n",
       "                                     description_raw  \n",
       "0  Moderne und wunderschöne 6.5-Zimmerwohnung mit...  \n",
       "1  Im Projekt «TILIA» finden Sie 72 stilvolle 1.5...  \n",
       "2  Im Projekt «TILIA» finden Sie 72 stilvolle 1.5...  \n",
       "3  An der Anna-Heer-Strasse in Zürich entstehen m...  \n",
       "4  An der Anna-Heer-Strasse in Zürich entstehen m...  "
      ]
     },
     "execution_count": 13,
     "metadata": {},
     "output_type": "execute_result"
    }
   ],
   "source": [
    "# Scrape multiple pages\n",
    "data = []\n",
    "base_url = 'https://www.immoscout24.ch/de/immobilien/mieten/ort-zuerich?pn='\n",
    "\n",
    "for page in range(1, 4):  # pages 1 to 3\n",
    "    url = base_url + str(page)\n",
    "    print(f\"Scraping {url}...\")\n",
    "    data.extend(extract_listing_info(url))\n",
    "\n",
    "# Create DataFrame\n",
    "df = pd.DataFrame(data)\n",
    "\n",
    "# Save to CSV\n",
    "df.to_csv('./data/rental_apartments_zuerich.csv', index=False)\n",
    "\n",
    "print(\"\\nData saved to real_estate_listings.csv\")\n",
    "\n",
    "# Show the first few rows of the DataFrame\n",
    "df.head()"
   ]
  },
  {
   "cell_type": "markdown",
   "metadata": {},
   "source": [
    "## Extract prices from strings using a regular expression (regex)"
   ]
  },
  {
   "cell_type": "code",
   "execution_count": 14,
   "metadata": {},
   "outputs": [
    {
     "data": {
      "text/html": [
       "<div>\n",
       "<style scoped>\n",
       "    .dataframe tbody tr th:only-of-type {\n",
       "        vertical-align: middle;\n",
       "    }\n",
       "\n",
       "    .dataframe tbody tr th {\n",
       "        vertical-align: top;\n",
       "    }\n",
       "\n",
       "    .dataframe thead th {\n",
       "        text-align: right;\n",
       "    }\n",
       "</style>\n",
       "<table border=\"1\" class=\"dataframe\">\n",
       "  <thead>\n",
       "    <tr style=\"text-align: right;\">\n",
       "      <th></th>\n",
       "      <th>address_raw</th>\n",
       "      <th>rooms_raw</th>\n",
       "      <th>area_raw</th>\n",
       "      <th>price_raw</th>\n",
       "      <th>price</th>\n",
       "    </tr>\n",
       "  </thead>\n",
       "  <tbody>\n",
       "    <tr>\n",
       "      <th>0</th>\n",
       "      <td>Weidmannstrasse 13, 8046 Zürich</td>\n",
       "      <td>6.5 Zimmer</td>\n",
       "      <td>150m²</td>\n",
       "      <td>CHF 6’220.–</td>\n",
       "      <td>6220.0</td>\n",
       "    </tr>\n",
       "    <tr>\n",
       "      <th>1</th>\n",
       "      <td>Segnesstrasse 12, 8048 Zürich</td>\n",
       "      <td>6.5 Zimmer</td>\n",
       "      <td>160m²</td>\n",
       "      <td>CHF 6’410.–</td>\n",
       "      <td>6410.0</td>\n",
       "    </tr>\n",
       "    <tr>\n",
       "      <th>2</th>\n",
       "      <td>Segnesstrasse 8, 8048 Zürich</td>\n",
       "      <td>5.5 Zimmer</td>\n",
       "      <td>140m²</td>\n",
       "      <td>CHF 5’120.–</td>\n",
       "      <td>5120.0</td>\n",
       "    </tr>\n",
       "    <tr>\n",
       "      <th>3</th>\n",
       "      <td>Anna-Heer-Strasse 12, 8057 Zürich</td>\n",
       "      <td>5.5 Zimmer</td>\n",
       "      <td>122m²</td>\n",
       "      <td>CHF 4’900.–</td>\n",
       "      <td>4900.0</td>\n",
       "    </tr>\n",
       "    <tr>\n",
       "      <th>4</th>\n",
       "      <td>Anna-Heer-Strasse 16, 8057 Zürich</td>\n",
       "      <td>5.5 Zimmer</td>\n",
       "      <td>121m²</td>\n",
       "      <td>CHF 4’800.–</td>\n",
       "      <td>4800.0</td>\n",
       "    </tr>\n",
       "  </tbody>\n",
       "</table>\n",
       "</div>"
      ],
      "text/plain": [
       "                         address_raw   rooms_raw area_raw    price_raw   price\n",
       "0    Weidmannstrasse 13, 8046 Zürich  6.5 Zimmer    150m²  CHF 6’220.–  6220.0\n",
       "1      Segnesstrasse 12, 8048 Zürich  6.5 Zimmer    160m²  CHF 6’410.–  6410.0\n",
       "2       Segnesstrasse 8, 8048 Zürich  5.5 Zimmer    140m²  CHF 5’120.–  5120.0\n",
       "3  Anna-Heer-Strasse 12, 8057 Zürich  5.5 Zimmer    122m²  CHF 4’900.–  4900.0\n",
       "4  Anna-Heer-Strasse 16, 8057 Zürich  5.5 Zimmer    121m²  CHF 4’800.–  4800.0"
      ]
     },
     "execution_count": 14,
     "metadata": {},
     "output_type": "execute_result"
    }
   ],
   "source": [
    "# Extract prices from the 'price_raw' column using a regular expression (regex)\n",
    "df['price'] = df['price_raw'].str.extract(r'(\\d[\\d’]*\\d)')\n",
    "\n",
<<<<<<< HEAD
    "# Remove thousands separator and convert to integer\n",
=======
    "# Remove thousands separator and convert to float\n",
>>>>>>> upstream/master
    "df['price'] = df['price'].str.replace('’', '').astype(float)\n",
    "\n",
    "# Show the first few rows of the DataFrame (selected columns)\n",
    "df[['address_raw', 'rooms_raw', 'area_raw', 'price_raw', 'price']].head()"
   ]
  },
  {
   "cell_type": "markdown",
   "metadata": {},
   "source": [
    "## Create histogram of prices"
   ]
  },
  {
   "cell_type": "code",
   "execution_count": 15,
   "metadata": {},
   "outputs": [
    {
     "data": {
      "image/png": "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",
      "text/plain": [
       "<Figure size 700x400 with 1 Axes>"
      ]
     },
     "metadata": {},
     "output_type": "display_data"
    }
   ],
   "source": [
    "# Plot a histogram of the prices\n",
    "plt.figure(figsize=(7, 4))\n",
    "plt.hist(df['price'], bins=30, color='greenyellow', edgecolor='gray')\n",
    "plt.title('Histogram of prices')\n",
    "plt.xlabel('Price (CHF)')\n",
    "plt.ylabel('Frequency')\n",
    "plt.show()\n"
   ]
  },
  {
   "cell_type": "markdown",
   "metadata": {},
   "source": [
    "### Jupyter notebook --footer info-- (please always provide this at the end of each notebook)"
   ]
  },
  {
   "cell_type": "code",
   "execution_count": 16,
   "metadata": {},
   "outputs": [
    {
     "name": "stdout",
     "output_type": "stream",
     "text": [
      "-----------------------------------\n",
      "POSIX\n",
      "Linux | 6.5.0-1025-azure\n",
      "Datetime: 2025-03-05 11:46:14\n",
      "Python Version: 3.11.11\n",
      "-----------------------------------\n"
     ]
    }
   ],
   "source": [
    "import os\n",
    "import platform\n",
    "import socket\n",
    "from platform import python_version\n",
    "from datetime import datetime\n",
    "\n",
    "print('-----------------------------------')\n",
    "print(os.name.upper())\n",
    "print(platform.system(), '|', platform.release())\n",
    "print('Datetime:', datetime.now().strftime(\"%Y-%m-%d %H:%M:%S\"))\n",
    "print('Python Version:', python_version())\n",
    "print('-----------------------------------')"
   ]
  }
 ],
 "metadata": {
  "kernelspec": {
   "display_name": "Python 3",
   "language": "python",
   "name": "python3"
  },
  "language_info": {
   "codemirror_mode": {
    "name": "ipython",
    "version": 3
   },
   "file_extension": ".py",
   "mimetype": "text/x-python",
   "name": "python",
   "nbconvert_exporter": "python",
   "pygments_lexer": "ipython3",
   "version": "3.11.11"
  }
 },
 "nbformat": 4,
 "nbformat_minor": 2
}
