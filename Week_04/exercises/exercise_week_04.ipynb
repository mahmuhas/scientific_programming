{
 "cells": [
  {
   "cell_type": "code",
   "execution_count": 1,
   "metadata": {},
   "outputs": [
    {
     "name": "stdout",
     "output_type": "stream",
     "text": [
      "['Limousine', 'Cabriolet', 'Kombi', 'Kleinwagen', 'Coupé', 'SUV / Geländewagen', 'Kompaktvan / Minivan', 'Bus', 'Limited', 'Pick-up', 'prima', 'Compaktvan/Minivan', 'Sport', '94Ah', 'GTS', 'S', 'Basis', '280', 'SX', '320 CDI', '120Ah', '3.0d', '3.0sd', 'XT', 'ST', 'LX', '170', 'Club', 'incl. Batterie', 'Essentia', '2.0d', 'y', '3.0si', 'Garantie -11.2023', '60Ah', 'Veteran', 'Batterie Miete', 'SE', 'Veloce', 'incl.battery', '4.8i', 'IE', 'Inj.']\n"
     ]
    }
   ],
   "source": [
    "# Import necessary libraries\n",
    "import pandas as pd\n",
    "import numpy as np\n",
    "import re\n",
    "\n",
    "# Read the data from the previous task\n",
    "df = pd.read_csv('./data/autoscout24_data.csv', sep=\";\")\n",
    "\n",
    "# Function to extract the car type\n",
    "def extract_type(type_str):\n",
    "    match = re.search(r'\\((.*?)\\)', type_str)\n",
    "    if match:\n",
    "        return match.group(1).strip()\n",
    "    return np.nan\n",
    "\n",
    "# Create a new column 'Filtered_Type' by applying the function to the 'Type' column\n",
    "df['Filtered_Type'] = df['Type'].apply(extract_type)\n",
    "\n",
    "# Display the first few rows of the data frame to verify\n",
    "df.head()\n",
    "\n",
    "# Create a list with unique categories from the column 'Filtered_Type'\n",
    "unique_categories = df['Filtered_Type'].unique()\n",
    "\n",
    "# Convert the numpy array to a list and remove unneeded items\n",
    "unique_categories_list = list(unique_categories)\n",
    "\n",
    "# Display the list of unique categories\n",
    "print(unique_categories_list)"
   ]
  }
 ],
 "metadata": {
  "kernelspec": {
   "display_name": "Python 3",
   "language": "python",
   "name": "python3"
  },
  "language_info": {
   "codemirror_mode": {
    "name": "ipython",
    "version": 3
   },
   "file_extension": ".py",
   "mimetype": "text/x-python",
   "name": "python",
   "nbconvert_exporter": "python",
   "pygments_lexer": "ipython3",
   "version": "3.11.11"
  }
 },
 "nbformat": 4,
 "nbformat_minor": 2
}
